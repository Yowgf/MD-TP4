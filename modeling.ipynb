{
 "cells": [
  {
   "cell_type": "markdown",
   "metadata": {},
   "source": [
    "## Fase 3 --- Calibração dos modelos e retrospectiva\n",
    "\n",
    "Aconteceu que a biblioteca sklearn tem uma função que automaticamente calibra os parâmetros da regressão linear regularizada. Por isso, essa fase deve fugir um pouco do esperado. Fica a lição para projetos futuros."
   ]
  },
  {
   "cell_type": "markdown",
   "metadata": {},
   "source": [
    "#### Passo 1\n",
    "\n",
    ">aplicar todos os modelos que restaram como candidatos da fase passada.\n",
    "\n",
    "Só tomei a regressão linear regularizada (Ridge) como opção na fase passada. Ela será aplicada abaixo. Utiliza-se o código Python gerado nas fases anteriores."
   ]
  },
  {
   "cell_type": "code",
   "execution_count": 1,
   "metadata": {},
   "outputs": [],
   "source": [
    "from src.preprocessing import *"
   ]
  },
  {
   "cell_type": "code",
   "execution_count": 2,
   "metadata": {},
   "outputs": [],
   "source": [
    "from sklearn.linear_model import RidgeCV"
   ]
  },
  {
   "cell_type": "code",
   "execution_count": 3,
   "metadata": {},
   "outputs": [],
   "source": [
    "from numpy import logspace\n",
    "\n",
    "# Not sure the alphas we should try, so just use a logarithmic\n",
    "#   distributed space.\n",
    "tryAlphas = logspace(-5, 5, 10)\n",
    "model = RidgeCV(alphas=tryAlphas, cv=10)"
   ]
  },
  {
   "cell_type": "code",
   "execution_count": 4,
   "metadata": {},
   "outputs": [
    {
     "name": "stderr",
     "output_type": "stream",
     "text": [
      "/usr/lib/python3/dist-packages/pandas/core/frame.py:4110: SettingWithCopyWarning: \n",
      "A value is trying to be set on a copy of a slice from a DataFrame\n",
      "\n",
      "See the caveats in the documentation: http://pandas.pydata.org/pandas-docs/stable/user_guide/indexing.html#returning-a-view-versus-a-copy\n",
      "  return super().drop(\n"
     ]
    }
   ],
   "source": [
    "filtPricesDf = fetchFiltPricesDf(pricesDf);"
   ]
  },
  {
   "cell_type": "code",
   "execution_count": 5,
   "metadata": {},
   "outputs": [],
   "source": [
    "X_train, X_test, y_train, y_test = splitTrainTest(filtPricesDf);"
   ]
  },
  {
   "cell_type": "code",
   "execution_count": 6,
   "metadata": {},
   "outputs": [],
   "source": [
    "model.fit(X_train, y_train);"
   ]
  },
  {
   "cell_type": "code",
   "execution_count": null,
   "metadata": {},
   "outputs": [],
   "source": [
    "predictions = model.predict(X_test)"
   ]
  },
  {
   "cell_type": "code",
   "execution_count": 12,
   "metadata": {},
   "outputs": [
    {
     "name": "stdout",
     "output_type": "stream",
     "text": [
      "0.9999762815205986\n"
     ]
    }
   ],
   "source": [
    "def calcSSE(ground_truth, y_hat):\n",
    "    return ((ground_truth - y_hat) ** 2).sum()\n",
    "\n",
    "def calcTSS(ground_truth):\n",
    "    mu = ground_truth.mean()\n",
    "    return ((ground_truth - mu) ** 2).sum()\n",
    "            \n",
    "def calcR2Score(ground_truth, y_hat):\n",
    "    sse = calcSSE(ground_truth, y_hat)\n",
    "    tss = calcTSS(ground_truth)\n",
    "    rss = tss - sse\n",
    "    return rss / tss\n",
    "\n",
    "r2_score = calcR2Score(y_test, predictions)\n",
    "\n",
    "print(r2_score)"
   ]
  },
  {
   "cell_type": "markdown",
   "metadata": {},
   "source": [
    "#### Passo 2\n",
    "\n",
    "Não foi necessário fazer qualquer coisa nesse passo, pois a biblioteca proveu meios de fazer isso automaticamente. O parâmetro de regularização ideal encontrado para o modelo é dado abaixo."
   ]
  },
  {
   "cell_type": "code",
   "execution_count": 13,
   "metadata": {},
   "outputs": [
    {
     "data": {
      "text/plain": [
       "0.2782559402207126"
      ]
     },
     "execution_count": 13,
     "metadata": {},
     "output_type": "execute_result"
    }
   ],
   "source": [
    "model.alpha_"
   ]
  },
  {
   "cell_type": "markdown",
   "metadata": {},
   "source": [
    "#### Passo 3\n",
    "\n",
    "Só agora a pouco é que se percebeu que um erro crasso foi cometido na criação do modelo de mineração de dados.\n",
    "\n",
    "Ao invés de se criar um preditor, criou-se um regressor. Isto é, ao invés de, com base nos dados até um certo dia, prever os atributos do próximo dia, ou algo do tipo, o modelo criado toma como entrada os atributos independentes e dá como saída o atributo dependente, notavelmente \"ocMean\".\n",
    "\n",
    "Como regressor, obviamente teve sucesso, pois conseguiu generalizar para o conjunto de teste com cerca de 0.002% de erro, com base na pontuação R2."
   ]
  }
 ],
 "metadata": {
  "kernelspec": {
   "display_name": "Python 3",
   "language": "python",
   "name": "python3"
  },
  "language_info": {
   "codemirror_mode": {
    "name": "ipython",
    "version": 3
   },
   "file_extension": ".py",
   "mimetype": "text/x-python",
   "name": "python",
   "nbconvert_exporter": "python",
   "pygments_lexer": "ipython3",
   "version": "3.8.5"
  }
 },
 "nbformat": 4,
 "nbformat_minor": 4
}
