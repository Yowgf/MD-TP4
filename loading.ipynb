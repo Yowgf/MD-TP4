{
 "cells": [
  {
   "cell_type": "markdown",
   "metadata": {},
   "source": [
    "## Fase 1 do projeto MD-TP4"
   ]
  },
  {
   "cell_type": "markdown",
   "metadata": {},
   "source": [
    "#### Passo 1\n",
    "\n",
    "Aqui somente carregamos os dados para dataframes pandas"
   ]
  },
  {
   "cell_type": "code",
   "execution_count": 1,
   "metadata": {},
   "outputs": [],
   "source": [
    "# Import all the data from the file \"data/\"\n",
    "from pandas import read_csv\n",
    "\n",
    "data_dir = None\n",
    "dataset_names = None\n",
    "    \n",
    "def load_csv(file, data_dir=\"data\"):\n",
    "    return read_csv(data_dir + \"/\" + file)\n",
    "\n",
    "def load_all(dfNamesList):\n",
    "    global data_dir, dataset_names\n",
    "    data_dir = \"data\"\n",
    "    \n",
    "    fundamentals = load_csv(\"fundamentals.csv\")\n",
    "    prices = load_csv(\"prices.csv\")\n",
    "    prices_split_adjusted = load_csv(\"prices-split-adjusted.csv\")\n",
    "    securities = load_csv(\"securities.csv\")\n",
    "\n",
    "    nameToDf = {\"fundamentals\": fundamentals,\n",
    "               \"prices\": prices,\n",
    "               \"prices_split_adjusted\": prices_split_adjusted,\n",
    "               \"securities\": securities}\n",
    "    \n",
    "    if dfNamesList == []:\n",
    "        raise AttributeError(\"Empty names list.\")\n",
    "    \n",
    "    dataset_names = dfNamesList\n",
    "    if len(dfNamesList) == 1:\n",
    "        return nameToDf[dfNamesList[0]]\n",
    "    else:\n",
    "        return [nameToDf[name] for name in dfNamesList]\n",
    "    \n",
    "pricesDf = load_all([\"prices\"]) # Only deal with prices for now\n",
    "\n",
    "# Define this list so to be used later if needed\n",
    "dfList = [pricesDf]"
   ]
  },
  {
   "cell_type": "markdown",
   "metadata": {},
   "source": [
    "#### Passo 2\n",
    "\n",
    "Lidando com valores invalidos ou faltantes (objetivo principal deste passo)\n",
    "\n",
    "Alem disso, foi necessario formatar os dados. DEcidi formatar os dados antes\n",
    "de testar por valores faltantes, para garantir que a formatacao nao introduziu\n",
    "nenhum.\n",
    "\n",
    "O resultado deste passo eh um dataset que pode ser usado no passo 3 e em diante\n",
    "para realizar analises e exploracao."
   ]
  },
  {
   "cell_type": "code",
   "execution_count": 2,
   "metadata": {},
   "outputs": [],
   "source": [
    "# Realizar formatacao basica dos dados\n",
    "# colunas a serem formatadas = [\"date\"]\n",
    "\n",
    "from pandas import to_datetime\n",
    "from numpy import int64\n",
    "\n",
    "# Defined in format_date\n",
    "minDate = None\n",
    "maxDate = None\n",
    "\n",
    "def date_to_day(dtObj):\n",
    "    nanosToS = lambda nano: nano / 1e9\n",
    "    sToHours = lambda s: s / 3600\n",
    "    hoursToDays = lambda h: h / 24\n",
    "\n",
    "    # Composition\n",
    "    nanosToDays = lambda nanos: hoursToDays(sToHours(nanosToS(nanos)))\n",
    "    \n",
    "    return nanosToDays(dtObj.value)\n",
    "\n",
    "# Convert every date in the given series to have base on the minumum date\n",
    "# That is to say that the minimum date will be day 0, for example\n",
    "def normalize_date(dateSeries, minDate):\n",
    "    return dateSeries - minDate\n",
    "\n",
    "def format_date(df, dateCol=\"date\"):\n",
    "    df[dateCol] = to_datetime(pricesDf[dateCol])\n",
    "\n",
    "    # Guardar estes valores, caso seja necessario depois\n",
    "    global minDate, maxDate\n",
    "    minDate = df[dateCol].min()\n",
    "    maxDate = df[dateCol].max()\n",
    "    \n",
    "    # Convert every date to a day by day format\n",
    "    df[dateCol] = normalize_date(df[dateCol], minDate)\n",
    "    \n",
    "    df[dateCol] = df[dateCol].apply(date_to_day).astype(int64)\n",
    "\n",
    "format_date(pricesDf)"
   ]
  },
  {
   "cell_type": "code",
   "execution_count": 3,
   "metadata": {},
   "outputs": [],
   "source": [
    "# Checks for Nan, None, np.NaN\n",
    "def guarantee_no_nan(df):\n",
    "    assert(df.isna().values.sum() == 0)\n",
    "\n",
    "def check_all_dfs_no_nan(dfsList):\n",
    "    for df in dfsList:\n",
    "        guarantee_no_nan(df)\n",
    "\n",
    "check_all_dfs_no_nan(dfList)"
   ]
  },
  {
   "cell_type": "markdown",
   "metadata": {},
   "source": [
    "#### Passo 3\n",
    "\n",
    "Listagem de estatísticas básicas sobre os dados.\n",
    "\n",
    "- Variância\n",
    "- Curtose\n",
    "- Assimetria"
   ]
  },
  {
   "cell_type": "code",
   "execution_count": 4,
   "metadata": {},
   "outputs": [],
   "source": [
    "numericalData = pricesDf.drop(\"symbol\", axis=1)"
   ]
  },
  {
   "cell_type": "code",
   "execution_count": 5,
   "metadata": {},
   "outputs": [
    {
     "data": {
      "text/plain": [
       "date      5.456742e+05\n",
       "open      7.005000e+03\n",
       "close     7.003964e+03\n",
       "low       6.868646e+03\n",
       "high      7.134421e+03\n",
       "volume    1.561171e+14\n",
       "dtype: float64"
      ]
     },
     "execution_count": 5,
     "metadata": {},
     "output_type": "execute_result"
    }
   ],
   "source": [
    "# Variância\n",
    "numericalData.var()"
   ]
  },
  {
   "cell_type": "code",
   "execution_count": 6,
   "metadata": {},
   "outputs": [
    {
     "name": "stdout",
     "output_type": "stream",
     "text": [
      "Curtose por coluna:\n",
      "['date', 'open', 'close', 'low', 'high', 'volume']\n",
      "[ -1.20238617  66.3303002   66.27563621  66.41904422  66.16620239\n",
      " 326.06556574]\n"
     ]
    }
   ],
   "source": [
    "# Curtose\n",
    "from scipy.stats import kurtosis\n",
    "print(\"Curtose por coluna:\")\n",
    "print(list(numericalData.columns))\n",
    "print(kurtosis(numericalData, fisher=True))"
   ]
  },
  {
   "cell_type": "code",
   "execution_count": 7,
   "metadata": {},
   "outputs": [
    {
     "name": "stdout",
     "output_type": "stream",
     "text": [
      "Assimetria por coluna:\n",
      "['date', 'open', 'close', 'low', 'high', 'volume']\n",
      "[-0.03325066  6.65684851  6.65371765  6.66069158  6.6488655  13.13272314]\n"
     ]
    }
   ],
   "source": [
    "# Assimetria\n",
    "from scipy.stats import skew\n",
    "print(\"Assimetria por coluna:\")\n",
    "print(list(numericalData.columns))\n",
    "print(skew(numericalData))"
   ]
  },
  {
   "cell_type": "markdown",
   "metadata": {},
   "source": [
    "#### Passo 4\n",
    "\n",
    "Mostrar visualizações interessantes dos dados. Tentar:\n",
    "\n",
    "- Histograma\n",
    "- Gráficos de correlação"
   ]
  },
  {
   "cell_type": "code",
   "execution_count": 8,
   "metadata": {},
   "outputs": [
    {
     "data": {
      "image/png": "[encoded data removed]",
      "text/plain": [
       "<Figure size 720x576 with 1 Axes>"
      ]
     },
     "metadata": {
      "needs_background": "light"
     },
     "output_type": "display_data"
    }
   ],
   "source": [
    "from matplotlib import pyplot as plt\n",
    "\n",
    "# Plot data for FOX company\n",
    "\n",
    "foxData = pricesDf[pricesDf[\"symbol\"] == 'FOX']\n",
    "\n",
    "foxTimes = foxData[\"date\"]\n",
    "foxPrices = foxData[\"open\"]\n",
    "\n",
    "plt.figure(1, figsize=(10, 8))\n",
    "plt.plot(foxTimes, foxPrices)\n",
    "plt.ylabel(\"US$\")\n",
    "plt.xlabel(\"day\")\n",
    "plt.show()\n",
    "\n",
    "# Need to extend this idea, to include all of the companies.\n",
    "# Also, maybe it would be nice to use some technique to integrate\n",
    "# features like open/close into one."
   ]
  },
  {
   "cell_type": "code",
   "execution_count": null,
   "metadata": {},
   "outputs": [],
   "source": []
  }
 ],
 "metadata": {
  "kernelspec": {
   "display_name": "Python 3",
   "language": "python",
   "name": "python3"
  },
  "language_info": {
   "codemirror_mode": {
    "name": "ipython",
    "version": 3
   },
   "file_extension": ".py",
   "mimetype": "text/x-python",
   "name": "python",
   "nbconvert_exporter": "python",
   "pygments_lexer": "ipython3",
   "version": "3.8.5"
  }
 },
 "nbformat": 4,
 "nbformat_minor": 4
}
